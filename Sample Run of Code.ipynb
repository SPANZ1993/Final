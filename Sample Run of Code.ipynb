{
 "cells": [
  {
   "cell_type": "code",
   "execution_count": 2,
   "metadata": {
    "collapsed": true
   },
   "outputs": [],
   "source": [
    "import numpy as np\n",
    "import pandas as pd\n",
    "import math\n",
    "import zipfile\n",
    "import copy\n",
    "import matplotlib.pyplot as plt\n",
    "from sklearn import preprocessing\n",
    "from sklearn.utils import shuffle\n",
    "from mpl_toolkits.basemap import Basemap\n",
    "from sklearn.ensemble import RandomForestClassifier\n",
    "from sklearn.model_selection import cross_val_score, cross_validate\n",
    "from sklearn.svm import SVC, LinearSVC\n",
    "from sklearn.tree import DecisionTreeClassifier as DT\n",
    "from sklearn.feature_selection import chi2, VarianceThreshold, SelectKBest\n",
    "from sklearn.metrics import accuracy_score"
   ]
  },
  {
   "cell_type": "code",
   "execution_count": 3,
   "metadata": {
    "collapsed": true
   },
   "outputs": [],
   "source": [
    "modelSVC1 = SVC(probability=True, \n",
    "            class_weight='balanced',\n",
    "            shrinking=False,\n",
    "            verbose=True)\n",
    "modelSVC2 = SVC(probability=True,\n",
    "            class_weight=None,\n",
    "            shrinking=True,\n",
    "            verbose=False)\n",
    "modelLSVC1 = LinearSVC(dual=True,\n",
    "            class_weight='balanced',\n",
    "            loss='hinge',\n",
    "            fit_intercept=True)\n",
    "modelLSVC2 = LinearSVC(dual=False,\n",
    "                       loss='squared_hinge', \n",
    "                       fit_intercept=True)\n",
    "modelDT1 = DT(criterion=\"gini\",\n",
    "            splitter=\"best\",\n",
    "             class_weight=\"balanced\")\n",
    "modelDT2 = DT(criterion=\"entropy\",\n",
    "             splitter=\"random\",\n",
    "             class_weight=None)"
   ]
  },
  {
   "cell_type": "code",
   "execution_count": 4,
   "metadata": {},
   "outputs": [],
   "source": [
    "models = {'decision tree' : modelDT2}"
   ]
  },
  {
   "cell_type": "code",
   "execution_count": 5,
   "metadata": {
    "collapsed": true
   },
   "outputs": [],
   "source": [
    "#Expects sampled data already\n",
    "def preprocess(to_process):\n",
    "    #remove 0s and nans\n",
    "    to_process = to_process.loc[~(to_process==0).all(axis=1)]\n",
    "    to_process.dropna()\n",
    "    \n",
    "    \n",
    "    #convert X to positive (all are negative and it causes problems later on)\n",
    "    to_process['X'] = to_process['X'].map(lambda x: abs(x))\n",
    "    \n",
    "    #Create new features from the date data\n",
    "    to_process['Year'] = to_process['Dates'].map(lambda x: x.year)\n",
    "    to_process['Week'] = to_process['Dates'].map(lambda x: x.week)\n",
    "    to_process['Hour'] = to_process['Dates'].map(lambda x: x.hour)\n",
    "    \n",
    "    #drop descript and resolution because they aren't in the test set so they can't be used\n",
    "    del to_process['Dates']\n",
    "    del to_process['Descript']\n",
    "    del to_process['Resolution']\n",
    "    del to_process['Address']\n",
    "    \n",
    "    le = preprocessing.LabelEncoder()\n",
    "    to_process['Category'] = le.fit_transform(to_process['Category'])\n",
    "    to_process['DayOfWeek'] = le.fit_transform(to_process['DayOfWeek'])\n",
    "    to_process['PdDistrict'] = le.fit_transform(to_process['PdDistrict'])\n",
    "    \n",
    "    return to_process"
   ]
  },
  {
   "cell_type": "code",
   "execution_count": 6,
   "metadata": {
    "collapsed": true
   },
   "outputs": [],
   "source": [
    "#Selects K best features using the featureSelector selector and verifying they fit a variance threshhold\n",
    "def extract_features(to_process, to_process_predicted, featureSelector, threshold=.8, kBest=1):\n",
    "    selector = VarianceThreshold() \n",
    "    selector.fit_transform(to_process, threshold)\n",
    "    \n",
    "    #fit the data to the VarianceThreshold\n",
    "    selector = SelectKBest(featureSelector, k=kBest)\n",
    "    selector.fit(to_process, to_process_predicted)\n",
    "    \n",
    "    # Get idxs of columns to keep\n",
    "    idxs_selected = selector.get_support(indices=True)\n",
    "    #Create new dataframe with only desired columns, or overwrite existing\n",
    "    data_new = to_process[idxs_selected]\n",
    "    \n",
    "    return data_new"
   ]
  },
  {
   "cell_type": "code",
   "execution_count": 7,
   "metadata": {
    "collapsed": true
   },
   "outputs": [],
   "source": [
    "def model_kfolds(sampled_data, y_val, model_dict, kFolds=5):\n",
    "    results = []\n",
    "    \n",
    "    #metrics to score with\n",
    "    metrics = ['accuracy', 'f1_micro', 'precision_micro', 'recall_micro']#, 'precision', 'recall']\n",
    "    \n",
    "    for name, model in model_dict.items():\n",
    "        #copy the data before each use\n",
    "        data_copy = copy.deepcopy(sampled_data)\n",
    "        \n",
    "        \n",
    "        scores = cross_validate(model, \n",
    "                                data_copy, \n",
    "                                data_copy[y_val], \n",
    "                                scoring=metrics, \n",
    "                                cv=kFolds)\n",
    "        \n",
    "        results.append([name, scores])\n",
    "        \n",
    "    return results"
   ]
  },
  {
   "cell_type": "code",
   "execution_count": 8,
   "metadata": {
    "collapsed": true
   },
   "outputs": [],
   "source": [
    "def pipeline(train_filename, test_filename, sample_size, kFolds=True):\n",
    "    #get the data from the CSVs\n",
    "    train = pd.read_csv(train_filename, parse_dates=['Dates'])\n",
    "    test = pd.read_csv(test_filename, parse_dates=['Dates'])\n",
    "    \n",
    "    #sample data\n",
    "    sampled_data = train.sample(n=sample_size)\n",
    "    \n",
    "    #preprocesses data by converting to nominal features, removing zeros,\n",
    "    #deleting unusable features, creating new features, and modifying negatives\n",
    "    processed_data = preprocess(sampled_data)\n",
    "    \n",
    "    cats = [np.array(data.Category), np.array(data.transformed_cat)]\n",
    "    \n",
    "    del processed_data['Category']\n",
    "    \n",
    "    #select K best features\n",
    "    final = extract_features(processed_data, processed_data['Category'], chi2, threshold=.8, kBest=5)\n",
    "    #print(final)\n",
    "    \n",
    "    \n",
    "    \n",
    "    #get models\n",
    "    results = model_kfolds(final, \"Category\", models)\n",
    "    \n",
    "    \n",
    "    #return performance metrics \n",
    "    results = [{x[0] : {'accuracy' : x[1]['test_accuracy'],\n",
    "                        'precision' : x[1]['test_precision_micro'],\n",
    "                        'recall' : x[1]['test_recall_micro'],\n",
    "                        'f1' : x[1]['test_f1_micro']}} for x in results]\n",
    "    \n",
    "    return results"
   ]
  },
  {
   "cell_type": "markdown",
   "metadata": {},
   "source": [
    "# Sampling"
   ]
  },
  {
   "cell_type": "code",
   "execution_count": 9,
   "metadata": {
    "collapsed": true
   },
   "outputs": [],
   "source": [
    "data = pd.read_csv('train.csv', parse_dates=['Dates'])"
   ]
  },
  {
   "cell_type": "code",
   "execution_count": 10,
   "metadata": {},
   "outputs": [],
   "source": [
    "data_sample = data.sample(5000)"
   ]
  },
  {
   "cell_type": "code",
   "execution_count": 11,
   "metadata": {},
   "outputs": [
    {
     "data": {
      "text/html": [
       "<div>\n",
       "<table border=\"1\" class=\"dataframe\">\n",
       "  <thead>\n",
       "    <tr style=\"text-align: right;\">\n",
       "      <th></th>\n",
       "      <th>Dates</th>\n",
       "      <th>Category</th>\n",
       "      <th>Descript</th>\n",
       "      <th>DayOfWeek</th>\n",
       "      <th>PdDistrict</th>\n",
       "      <th>Resolution</th>\n",
       "      <th>Address</th>\n",
       "      <th>X</th>\n",
       "      <th>Y</th>\n",
       "    </tr>\n",
       "  </thead>\n",
       "  <tbody>\n",
       "    <tr>\n",
       "      <th>579003</th>\n",
       "      <td>2007-03-07 07:58:00</td>\n",
       "      <td>OTHER OFFENSES</td>\n",
       "      <td>TRAFFIC VIOLATION</td>\n",
       "      <td>Wednesday</td>\n",
       "      <td>NORTHERN</td>\n",
       "      <td>ARREST, CITED</td>\n",
       "      <td>OCTAVIA ST / FELL ST</td>\n",
       "      <td>-122.424437</td>\n",
       "      <td>37.775740</td>\n",
       "    </tr>\n",
       "    <tr>\n",
       "      <th>214827</th>\n",
       "      <td>2012-06-30 22:00:00</td>\n",
       "      <td>OTHER OFFENSES</td>\n",
       "      <td>FALSE PERSONATION</td>\n",
       "      <td>Saturday</td>\n",
       "      <td>SOUTHERN</td>\n",
       "      <td>NONE</td>\n",
       "      <td>800 Block of BRYANT ST</td>\n",
       "      <td>-122.403405</td>\n",
       "      <td>37.775421</td>\n",
       "    </tr>\n",
       "    <tr>\n",
       "      <th>600439</th>\n",
       "      <td>2006-11-04 14:00:00</td>\n",
       "      <td>VEHICLE THEFT</td>\n",
       "      <td>STOLEN AUTOMOBILE</td>\n",
       "      <td>Saturday</td>\n",
       "      <td>MISSION</td>\n",
       "      <td>UNFOUNDED</td>\n",
       "      <td>400 Block of CASTRO ST</td>\n",
       "      <td>-122.435150</td>\n",
       "      <td>37.761760</td>\n",
       "    </tr>\n",
       "    <tr>\n",
       "      <th>164619</th>\n",
       "      <td>2013-03-08 18:14:00</td>\n",
       "      <td>DRUG/NARCOTIC</td>\n",
       "      <td>POSSESSION OF MARIJUANA</td>\n",
       "      <td>Friday</td>\n",
       "      <td>SOUTHERN</td>\n",
       "      <td>ARREST, BOOKED</td>\n",
       "      <td>13TH ST / FOLSOM ST</td>\n",
       "      <td>-122.415578</td>\n",
       "      <td>37.769591</td>\n",
       "    </tr>\n",
       "    <tr>\n",
       "      <th>372460</th>\n",
       "      <td>2010-03-08 13:45:00</td>\n",
       "      <td>LARCENY/THEFT</td>\n",
       "      <td>LOST PROPERTY, GRAND THEFT</td>\n",
       "      <td>Monday</td>\n",
       "      <td>INGLESIDE</td>\n",
       "      <td>NONE</td>\n",
       "      <td>0 Block of PHELAN AV</td>\n",
       "      <td>-122.452290</td>\n",
       "      <td>37.725693</td>\n",
       "    </tr>\n",
       "  </tbody>\n",
       "</table>\n",
       "</div>"
      ],
      "text/plain": [
       "                     Dates        Category                    Descript  \\\n",
       "579003 2007-03-07 07:58:00  OTHER OFFENSES           TRAFFIC VIOLATION   \n",
       "214827 2012-06-30 22:00:00  OTHER OFFENSES           FALSE PERSONATION   \n",
       "600439 2006-11-04 14:00:00   VEHICLE THEFT           STOLEN AUTOMOBILE   \n",
       "164619 2013-03-08 18:14:00   DRUG/NARCOTIC     POSSESSION OF MARIJUANA   \n",
       "372460 2010-03-08 13:45:00   LARCENY/THEFT  LOST PROPERTY, GRAND THEFT   \n",
       "\n",
       "        DayOfWeek PdDistrict      Resolution                 Address  \\\n",
       "579003  Wednesday   NORTHERN   ARREST, CITED    OCTAVIA ST / FELL ST   \n",
       "214827   Saturday   SOUTHERN            NONE  800 Block of BRYANT ST   \n",
       "600439   Saturday    MISSION       UNFOUNDED  400 Block of CASTRO ST   \n",
       "164619     Friday   SOUTHERN  ARREST, BOOKED     13TH ST / FOLSOM ST   \n",
       "372460     Monday  INGLESIDE            NONE    0 Block of PHELAN AV   \n",
       "\n",
       "                 X          Y  \n",
       "579003 -122.424437  37.775740  \n",
       "214827 -122.403405  37.775421  \n",
       "600439 -122.435150  37.761760  \n",
       "164619 -122.415578  37.769591  \n",
       "372460 -122.452290  37.725693  "
      ]
     },
     "execution_count": 11,
     "metadata": {},
     "output_type": "execute_result"
    }
   ],
   "source": [
    "data_sample.head()"
   ]
  },
  {
   "cell_type": "code",
   "execution_count": 12,
   "metadata": {},
   "outputs": [
    {
     "data": {
      "text/plain": [
       "(5000, 9)"
      ]
     },
     "execution_count": 12,
     "metadata": {},
     "output_type": "execute_result"
    }
   ],
   "source": [
    "data_sample.shape"
   ]
  },
  {
   "cell_type": "markdown",
   "metadata": {},
   "source": [
    "# Preprocessing"
   ]
  },
  {
   "cell_type": "code",
   "execution_count": 13,
   "metadata": {
    "collapsed": true
   },
   "outputs": [],
   "source": [
    "p_data = preprocess(data_sample)"
   ]
  },
  {
   "cell_type": "code",
   "execution_count": 14,
   "metadata": {},
   "outputs": [
    {
     "data": {
      "text/plain": [
       "(5000, 8)"
      ]
     },
     "execution_count": 14,
     "metadata": {},
     "output_type": "execute_result"
    }
   ],
   "source": [
    "p_data.shape"
   ]
  },
  {
   "cell_type": "code",
   "execution_count": 15,
   "metadata": {},
   "outputs": [
    {
     "data": {
      "text/html": [
       "<div>\n",
       "<table border=\"1\" class=\"dataframe\">\n",
       "  <thead>\n",
       "    <tr style=\"text-align: right;\">\n",
       "      <th></th>\n",
       "      <th>Category</th>\n",
       "      <th>DayOfWeek</th>\n",
       "      <th>PdDistrict</th>\n",
       "      <th>X</th>\n",
       "      <th>Y</th>\n",
       "      <th>Year</th>\n",
       "      <th>Week</th>\n",
       "      <th>Hour</th>\n",
       "    </tr>\n",
       "  </thead>\n",
       "  <tbody>\n",
       "    <tr>\n",
       "      <th>579003</th>\n",
       "      <td>20</td>\n",
       "      <td>6</td>\n",
       "      <td>4</td>\n",
       "      <td>122.424437</td>\n",
       "      <td>37.775740</td>\n",
       "      <td>2007</td>\n",
       "      <td>10</td>\n",
       "      <td>7</td>\n",
       "    </tr>\n",
       "    <tr>\n",
       "      <th>214827</th>\n",
       "      <td>20</td>\n",
       "      <td>2</td>\n",
       "      <td>7</td>\n",
       "      <td>122.403405</td>\n",
       "      <td>37.775421</td>\n",
       "      <td>2012</td>\n",
       "      <td>26</td>\n",
       "      <td>22</td>\n",
       "    </tr>\n",
       "    <tr>\n",
       "      <th>600439</th>\n",
       "      <td>33</td>\n",
       "      <td>2</td>\n",
       "      <td>3</td>\n",
       "      <td>122.435150</td>\n",
       "      <td>37.761760</td>\n",
       "      <td>2006</td>\n",
       "      <td>44</td>\n",
       "      <td>14</td>\n",
       "    </tr>\n",
       "    <tr>\n",
       "      <th>164619</th>\n",
       "      <td>6</td>\n",
       "      <td>0</td>\n",
       "      <td>7</td>\n",
       "      <td>122.415578</td>\n",
       "      <td>37.769591</td>\n",
       "      <td>2013</td>\n",
       "      <td>10</td>\n",
       "      <td>18</td>\n",
       "    </tr>\n",
       "    <tr>\n",
       "      <th>372460</th>\n",
       "      <td>15</td>\n",
       "      <td>1</td>\n",
       "      <td>2</td>\n",
       "      <td>122.452290</td>\n",
       "      <td>37.725693</td>\n",
       "      <td>2010</td>\n",
       "      <td>10</td>\n",
       "      <td>13</td>\n",
       "    </tr>\n",
       "  </tbody>\n",
       "</table>\n",
       "</div>"
      ],
      "text/plain": [
       "        Category  DayOfWeek  PdDistrict           X          Y  Year  Week  \\\n",
       "579003        20          6           4  122.424437  37.775740  2007    10   \n",
       "214827        20          2           7  122.403405  37.775421  2012    26   \n",
       "600439        33          2           3  122.435150  37.761760  2006    44   \n",
       "164619         6          0           7  122.415578  37.769591  2013    10   \n",
       "372460        15          1           2  122.452290  37.725693  2010    10   \n",
       "\n",
       "        Hour  \n",
       "579003     7  \n",
       "214827    22  \n",
       "600439    14  \n",
       "164619    18  \n",
       "372460    13  "
      ]
     },
     "execution_count": 15,
     "metadata": {},
     "output_type": "execute_result"
    }
   ],
   "source": [
    "p_data.head()"
   ]
  },
  {
   "cell_type": "markdown",
   "metadata": {},
   "source": [
    "# Feature Selection"
   ]
  },
  {
   "cell_type": "code",
   "execution_count": 16,
   "metadata": {},
   "outputs": [],
   "source": [
    "p_final = extract_features(p_data, p_data.Category, chi2, threshold=.8, kBest=5)"
   ]
  },
  {
   "cell_type": "code",
   "execution_count": 17,
   "metadata": {},
   "outputs": [
    {
     "data": {
      "text/html": [
       "<div>\n",
       "<table border=\"1\" class=\"dataframe\">\n",
       "  <thead>\n",
       "    <tr style=\"text-align: right;\">\n",
       "      <th></th>\n",
       "      <th>Category</th>\n",
       "      <th>DayOfWeek</th>\n",
       "      <th>PdDistrict</th>\n",
       "      <th>Week</th>\n",
       "      <th>Hour</th>\n",
       "    </tr>\n",
       "  </thead>\n",
       "  <tbody>\n",
       "    <tr>\n",
       "      <th>579003</th>\n",
       "      <td>20</td>\n",
       "      <td>6</td>\n",
       "      <td>4</td>\n",
       "      <td>10</td>\n",
       "      <td>7</td>\n",
       "    </tr>\n",
       "    <tr>\n",
       "      <th>214827</th>\n",
       "      <td>20</td>\n",
       "      <td>2</td>\n",
       "      <td>7</td>\n",
       "      <td>26</td>\n",
       "      <td>22</td>\n",
       "    </tr>\n",
       "    <tr>\n",
       "      <th>600439</th>\n",
       "      <td>33</td>\n",
       "      <td>2</td>\n",
       "      <td>3</td>\n",
       "      <td>44</td>\n",
       "      <td>14</td>\n",
       "    </tr>\n",
       "    <tr>\n",
       "      <th>164619</th>\n",
       "      <td>6</td>\n",
       "      <td>0</td>\n",
       "      <td>7</td>\n",
       "      <td>10</td>\n",
       "      <td>18</td>\n",
       "    </tr>\n",
       "    <tr>\n",
       "      <th>372460</th>\n",
       "      <td>15</td>\n",
       "      <td>1</td>\n",
       "      <td>2</td>\n",
       "      <td>10</td>\n",
       "      <td>13</td>\n",
       "    </tr>\n",
       "  </tbody>\n",
       "</table>\n",
       "</div>"
      ],
      "text/plain": [
       "        Category  DayOfWeek  PdDistrict  Week  Hour\n",
       "579003        20          6           4    10     7\n",
       "214827        20          2           7    26    22\n",
       "600439        33          2           3    44    14\n",
       "164619         6          0           7    10    18\n",
       "372460        15          1           2    10    13"
      ]
     },
     "execution_count": 17,
     "metadata": {},
     "output_type": "execute_result"
    }
   ],
   "source": [
    "p_final.head()"
   ]
  },
  {
   "cell_type": "code",
   "execution_count": 18,
   "metadata": {},
   "outputs": [
    {
     "data": {
      "text/plain": [
       "(5000, 5)"
      ]
     },
     "execution_count": 18,
     "metadata": {},
     "output_type": "execute_result"
    }
   ],
   "source": [
    "p_final.shape"
   ]
  },
  {
   "cell_type": "markdown",
   "metadata": {},
   "source": [
    "# kFolds Cross Validation"
   ]
  },
  {
   "cell_type": "code",
   "execution_count": 19,
   "metadata": {},
   "outputs": [],
   "source": [
    "results = model_kfolds(p_final, \"Category\", models)\n",
    "    \n",
    "    \n",
    "#return performance metrics \n",
    "results = [{x[0] : {'accuracy' : x[1]['test_accuracy'].mean(),\n",
    "                    'precision' : x[1]['test_precision_micro'].mean(),\n",
    "                    'recall' : x[1]['test_recall_micro'].mean(),\n",
    "                    'f1' : x[1]['test_f1_micro'].mean()}} for x in results]"
   ]
  },
  {
   "cell_type": "code",
   "execution_count": 20,
   "metadata": {
    "scrolled": true
   },
   "outputs": [
    {
     "data": {
      "text/plain": [
       "[{'decision tree': {'accuracy': 0.9992118226600984,\n",
       "   'f1': 0.9992118226600984,\n",
       "   'precision': 0.9992118226600984,\n",
       "   'recall': 0.9992118226600984}}]"
      ]
     },
     "execution_count": 20,
     "metadata": {},
     "output_type": "execute_result"
    }
   ],
   "source": [
    "results"
   ]
  },
  {
   "cell_type": "code",
   "execution_count": null,
   "metadata": {
    "collapsed": true
   },
   "outputs": [],
   "source": []
  }
 ],
 "metadata": {
  "anaconda-cloud": {},
  "kernelspec": {
   "display_name": "Python 3",
   "language": "python",
   "name": "python3"
  },
  "language_info": {
   "codemirror_mode": {
    "name": "ipython",
    "version": 3
   },
   "file_extension": ".py",
   "mimetype": "text/x-python",
   "name": "python",
   "nbconvert_exporter": "python",
   "pygments_lexer": "ipython3",
   "version": "3.6.5"
  }
 },
 "nbformat": 4,
 "nbformat_minor": 1
}
