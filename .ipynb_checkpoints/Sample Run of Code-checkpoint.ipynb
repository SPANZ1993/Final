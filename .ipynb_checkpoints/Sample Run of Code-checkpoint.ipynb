{
 "cells": [
  {
   "cell_type": "code",
   "execution_count": null,
   "metadata": {
    "collapsed": true
   },
   "outputs": [],
   "source": [
    "import warnings\n",
    "warnings.filterwarnings('ignore')"
   ]
  },
  {
   "cell_type": "code",
   "execution_count": 2,
   "metadata": {
    "collapsed": true
   },
   "outputs": [],
   "source": [
    "import numpy as np\n",
    "import pandas as pd\n",
    "import math\n",
    "import zipfile\n",
    "import copy\n",
    "import matplotlib.pyplot as plt\n",
    "from sklearn import preprocessing\n",
    "from sklearn.utils import shuffle\n",
    "from mpl_toolkits.basemap import Basemap\n",
    "from sklearn.ensemble import RandomForestClassifier\n",
    "from sklearn.model_selection import cross_val_score, cross_validate\n",
    "from sklearn.svm import SVC, LinearSVC\n",
    "from sklearn.tree import DecisionTreeClassifier as DT\n",
    "from sklearn.feature_selection import chi2, VarianceThreshold, SelectKBest\n",
    "from sklearn.metrics import accuracy_score"
   ]
  },
  {
   "cell_type": "code",
   "execution_count": 3,
   "metadata": {
    "collapsed": true
   },
   "outputs": [],
   "source": [
    "modelSVC1 = SVC(probability=True, \n",
    "            class_weight='balanced',\n",
    "            shrinking=False,\n",
    "            verbose=True)\n",
    "modelSVC2 = SVC(probability=True,\n",
    "            class_weight=None,\n",
    "            shrinking=True,\n",
    "            verbose=False)\n",
    "modelLSVC1 = LinearSVC(dual=True,\n",
    "            class_weight='balanced',\n",
    "            loss='hinge',\n",
    "            fit_intercept=True)\n",
    "modelLSVC2 = LinearSVC(dual=False,\n",
    "                       loss='squared_hinge', \n",
    "                       fit_intercept=True)\n",
    "modelDT1 = DT(criterion=\"gini\",\n",
    "            splitter=\"best\",\n",
    "             class_weight=\"balanced\")\n",
    "modelDT2 = DT(criterion=\"entropy\",\n",
    "             splitter=\"random\",\n",
    "             class_weight=None)"
   ]
  },
  {
   "cell_type": "code",
   "execution_count": 4,
   "metadata": {
    "collapsed": false
   },
   "outputs": [],
   "source": [
    "models = {'SVC1' : modelSVC1}"
   ]
  },
  {
   "cell_type": "code",
   "execution_count": 5,
   "metadata": {
    "collapsed": true
   },
   "outputs": [],
   "source": [
    "#Expects sampled data already\n",
    "def preprocess(to_process):\n",
    "    #remove 0s and nans\n",
    "    to_process = to_process.loc[~(to_process==0).all(axis=1)]\n",
    "    to_process.dropna()\n",
    "    \n",
    "    \n",
    "    #convert X to positive (all are negative and it causes problems later on)\n",
    "    to_process['X'] = to_process['X'].map(lambda x: abs(x))\n",
    "    \n",
    "    #Create new features from the date data\n",
    "    to_process['Year'] = to_process['Dates'].map(lambda x: x.year)\n",
    "    to_process['Week'] = to_process['Dates'].map(lambda x: x.week)\n",
    "    to_process['Hour'] = to_process['Dates'].map(lambda x: x.hour)\n",
    "    \n",
    "    #drop descript and resolution because they aren't in the test set so they can't be used\n",
    "    del to_process['Dates']\n",
    "    del to_process['Descript']\n",
    "    del to_process['Resolution']\n",
    "    del to_process['Address']\n",
    "    \n",
    "    le = preprocessing.LabelEncoder()\n",
    "    to_process['Category'] = le.fit_transform(to_process['Category'])\n",
    "    to_process['DayOfWeek'] = le.fit_transform(to_process['DayOfWeek'])\n",
    "    to_process['PdDistrict'] = le.fit_transform(to_process['PdDistrict'])\n",
    "    \n",
    "    return to_process"
   ]
  },
  {
   "cell_type": "code",
   "execution_count": 6,
   "metadata": {
    "collapsed": true
   },
   "outputs": [],
   "source": [
    "#Selects K best features using the featureSelector selector and verifying they fit a variance threshhold\n",
    "def extract_features(to_process, to_process_predicted, featureSelector, threshold=.8, kBest=1):\n",
    "    selector = VarianceThreshold() \n",
    "    selector.fit_transform(to_process, threshold)\n",
    "    \n",
    "    #fit the data to the VarianceThreshold\n",
    "    selector = SelectKBest(featureSelector, k=kBest)\n",
    "    selector.fit(to_process, to_process_predicted)\n",
    "    \n",
    "    # Get idxs of columns to keep\n",
    "    idxs_selected = selector.get_support(indices=True)\n",
    "    #Create new dataframe with only desired columns, or overwrite existing\n",
    "    data_new = to_process[idxs_selected]\n",
    "    \n",
    "    return data_new"
   ]
  },
  {
   "cell_type": "code",
   "execution_count": 7,
   "metadata": {
    "collapsed": true
   },
   "outputs": [],
   "source": [
    "def model_kfolds(sampled_data, y_val, model_dict, kFolds=5):\n",
    "    results = []\n",
    "    \n",
    "    #metrics to score with\n",
    "    metrics = ['accuracy', 'f1_micro', 'precision_micro', 'recall_micro']#, 'precision', 'recall']\n",
    "    \n",
    "    for name, model in model_dict.items():\n",
    "        #copy the data before each use\n",
    "        data_copy = copy.deepcopy(sampled_data)\n",
    "        \n",
    "        \n",
    "        scores = cross_validate(model, \n",
    "                                data_copy, \n",
    "                                data_copy[y_val], \n",
    "                                scoring=metrics, \n",
    "                                cv=kFolds)\n",
    "        \n",
    "        results.append([name, scores])\n",
    "        \n",
    "    return results"
   ]
  },
  {
   "cell_type": "code",
   "execution_count": 8,
   "metadata": {
    "collapsed": true
   },
   "outputs": [],
   "source": [
    "def pipeline(train_filename, test_filename, sample_size, kFolds=True):\n",
    "    #get the data from the CSVs\n",
    "    train = pd.read_csv(train_filename, parse_dates=['Dates'])\n",
    "    test = pd.read_csv(test_filename, parse_dates=['Dates'])\n",
    "    \n",
    "    #sample data\n",
    "    sampled_data = train.sample(n=sample_size)\n",
    "    \n",
    "    #preprocesses data by converting to nominal features, removing zeros,\n",
    "    #deleting unusable features, creating new features, and modifying negatives\n",
    "    processed_data = preprocess(sampled_data)\n",
    "    \n",
    "    cats = [np.array(data.Category), np.array(data.transformed_cat)]\n",
    "    \n",
    "    del processed_data['Category']\n",
    "    \n",
    "    #select K best features\n",
    "    final = extract_features(processed_data, processed_data['Category'], chi2, threshold=.8, kBest=5)\n",
    "    #print(final)\n",
    "    \n",
    "    \n",
    "    \n",
    "    #get models\n",
    "    results = model_kfolds(final, \"Category\", models)\n",
    "    \n",
    "    \n",
    "    #return performance metrics \n",
    "    results = [{x[0] : {'accuracy' : x[1]['test_accuracy'],\n",
    "                        'precision' : x[1]['test_precision_micro'],\n",
    "                        'recall' : x[1]['test_recall_micro'],\n",
    "                        'f1' : x[1]['test_f1_micro']}} for x in results]\n",
    "    \n",
    "    return results"
   ]
  },
  {
   "cell_type": "markdown",
   "metadata": {},
   "source": [
    "# Sampling"
   ]
  },
  {
   "cell_type": "code",
   "execution_count": 21,
   "metadata": {
    "collapsed": true
   },
   "outputs": [],
   "source": [
    "data = pd.read_csv('train.csv', parse_dates=['Dates'])"
   ]
  },
  {
   "cell_type": "code",
   "execution_count": 22,
   "metadata": {
    "collapsed": false
   },
   "outputs": [],
   "source": [
    "data_sample = data.sample(5000)"
   ]
  },
  {
   "cell_type": "code",
   "execution_count": 23,
   "metadata": {
    "collapsed": false
   },
   "outputs": [
    {
     "data": {
      "text/html": [
       "<div>\n",
       "<table border=\"1\" class=\"dataframe\">\n",
       "  <thead>\n",
       "    <tr style=\"text-align: right;\">\n",
       "      <th></th>\n",
       "      <th>Dates</th>\n",
       "      <th>Category</th>\n",
       "      <th>Descript</th>\n",
       "      <th>DayOfWeek</th>\n",
       "      <th>PdDistrict</th>\n",
       "      <th>Resolution</th>\n",
       "      <th>Address</th>\n",
       "      <th>X</th>\n",
       "      <th>Y</th>\n",
       "    </tr>\n",
       "  </thead>\n",
       "  <tbody>\n",
       "    <tr>\n",
       "      <th>821148</th>\n",
       "      <td>2003-10-03 13:45:00</td>\n",
       "      <td>SEX OFFENSES FORCIBLE</td>\n",
       "      <td>SEXUAL BATTERY</td>\n",
       "      <td>Friday</td>\n",
       "      <td>PARK</td>\n",
       "      <td>NONE</td>\n",
       "      <td>1400 Block of SCOTT ST</td>\n",
       "      <td>-122.437674</td>\n",
       "      <td>37.783209</td>\n",
       "    </tr>\n",
       "    <tr>\n",
       "      <th>82731</th>\n",
       "      <td>2014-04-05 18:00:00</td>\n",
       "      <td>LARCENY/THEFT</td>\n",
       "      <td>GRAND THEFT FROM LOCKED AUTO</td>\n",
       "      <td>Saturday</td>\n",
       "      <td>SOUTHERN</td>\n",
       "      <td>NONE</td>\n",
       "      <td>HARRISON ST / 8TH ST</td>\n",
       "      <td>-122.408518</td>\n",
       "      <td>37.773760</td>\n",
       "    </tr>\n",
       "    <tr>\n",
       "      <th>445186</th>\n",
       "      <td>2009-02-05 15:40:00</td>\n",
       "      <td>ROBBERY</td>\n",
       "      <td>ROBBERY ON THE STREET WITH A DANGEROUS WEAPON</td>\n",
       "      <td>Thursday</td>\n",
       "      <td>MISSION</td>\n",
       "      <td>JUVENILE BOOKED</td>\n",
       "      <td>2700 Block of MISSION ST</td>\n",
       "      <td>-122.418587</td>\n",
       "      <td>37.753019</td>\n",
       "    </tr>\n",
       "    <tr>\n",
       "      <th>278519</th>\n",
       "      <td>2011-07-28 18:00:00</td>\n",
       "      <td>LARCENY/THEFT</td>\n",
       "      <td>PETTY THEFT OF PROPERTY</td>\n",
       "      <td>Thursday</td>\n",
       "      <td>SOUTHERN</td>\n",
       "      <td>NONE</td>\n",
       "      <td>800 Block of MARKET ST</td>\n",
       "      <td>-122.407634</td>\n",
       "      <td>37.784189</td>\n",
       "    </tr>\n",
       "    <tr>\n",
       "      <th>414045</th>\n",
       "      <td>2009-07-22 15:30:00</td>\n",
       "      <td>WARRANTS</td>\n",
       "      <td>ENROUTE TO OUTSIDE JURISDICTION</td>\n",
       "      <td>Wednesday</td>\n",
       "      <td>TENDERLOIN</td>\n",
       "      <td>ARREST, BOOKED</td>\n",
       "      <td>EDDY ST / MASON ST</td>\n",
       "      <td>-122.409313</td>\n",
       "      <td>37.784348</td>\n",
       "    </tr>\n",
       "  </tbody>\n",
       "</table>\n",
       "</div>"
      ],
      "text/plain": [
       "                     Dates               Category  \\\n",
       "821148 2003-10-03 13:45:00  SEX OFFENSES FORCIBLE   \n",
       "82731  2014-04-05 18:00:00          LARCENY/THEFT   \n",
       "445186 2009-02-05 15:40:00                ROBBERY   \n",
       "278519 2011-07-28 18:00:00          LARCENY/THEFT   \n",
       "414045 2009-07-22 15:30:00               WARRANTS   \n",
       "\n",
       "                                             Descript  DayOfWeek  PdDistrict  \\\n",
       "821148                                 SEXUAL BATTERY     Friday        PARK   \n",
       "82731                    GRAND THEFT FROM LOCKED AUTO   Saturday    SOUTHERN   \n",
       "445186  ROBBERY ON THE STREET WITH A DANGEROUS WEAPON   Thursday     MISSION   \n",
       "278519                        PETTY THEFT OF PROPERTY   Thursday    SOUTHERN   \n",
       "414045                ENROUTE TO OUTSIDE JURISDICTION  Wednesday  TENDERLOIN   \n",
       "\n",
       "             Resolution                   Address           X          Y  \n",
       "821148             NONE    1400 Block of SCOTT ST -122.437674  37.783209  \n",
       "82731              NONE      HARRISON ST / 8TH ST -122.408518  37.773760  \n",
       "445186  JUVENILE BOOKED  2700 Block of MISSION ST -122.418587  37.753019  \n",
       "278519             NONE    800 Block of MARKET ST -122.407634  37.784189  \n",
       "414045   ARREST, BOOKED        EDDY ST / MASON ST -122.409313  37.784348  "
      ]
     },
     "execution_count": 23,
     "metadata": {},
     "output_type": "execute_result"
    }
   ],
   "source": [
    "data_sample.head()"
   ]
  },
  {
   "cell_type": "code",
   "execution_count": 24,
   "metadata": {
    "collapsed": false
   },
   "outputs": [
    {
     "data": {
      "text/plain": [
       "(5000, 9)"
      ]
     },
     "execution_count": 24,
     "metadata": {},
     "output_type": "execute_result"
    }
   ],
   "source": [
    "data_sample.shape"
   ]
  },
  {
   "cell_type": "markdown",
   "metadata": {},
   "source": [
    "# Preprocessing"
   ]
  },
  {
   "cell_type": "code",
   "execution_count": 25,
   "metadata": {
    "collapsed": true
   },
   "outputs": [],
   "source": [
    "p_data = preprocess(data_sample)"
   ]
  },
  {
   "cell_type": "code",
   "execution_count": 26,
   "metadata": {
    "collapsed": false
   },
   "outputs": [
    {
     "data": {
      "text/plain": [
       "(5000, 8)"
      ]
     },
     "execution_count": 26,
     "metadata": {},
     "output_type": "execute_result"
    }
   ],
   "source": [
    "p_data.shape"
   ]
  },
  {
   "cell_type": "code",
   "execution_count": 27,
   "metadata": {
    "collapsed": false
   },
   "outputs": [
    {
     "data": {
      "text/html": [
       "<div>\n",
       "<table border=\"1\" class=\"dataframe\">\n",
       "  <thead>\n",
       "    <tr style=\"text-align: right;\">\n",
       "      <th></th>\n",
       "      <th>Category</th>\n",
       "      <th>DayOfWeek</th>\n",
       "      <th>PdDistrict</th>\n",
       "      <th>X</th>\n",
       "      <th>Y</th>\n",
       "      <th>Year</th>\n",
       "      <th>Week</th>\n",
       "      <th>Hour</th>\n",
       "    </tr>\n",
       "  </thead>\n",
       "  <tbody>\n",
       "    <tr>\n",
       "      <th>821148</th>\n",
       "      <td>26</td>\n",
       "      <td>0</td>\n",
       "      <td>5</td>\n",
       "      <td>122.437674</td>\n",
       "      <td>37.783209</td>\n",
       "      <td>2003</td>\n",
       "      <td>40</td>\n",
       "      <td>13</td>\n",
       "    </tr>\n",
       "    <tr>\n",
       "      <th>82731</th>\n",
       "      <td>15</td>\n",
       "      <td>2</td>\n",
       "      <td>7</td>\n",
       "      <td>122.408518</td>\n",
       "      <td>37.773760</td>\n",
       "      <td>2014</td>\n",
       "      <td>14</td>\n",
       "      <td>18</td>\n",
       "    </tr>\n",
       "    <tr>\n",
       "      <th>445186</th>\n",
       "      <td>23</td>\n",
       "      <td>4</td>\n",
       "      <td>3</td>\n",
       "      <td>122.418587</td>\n",
       "      <td>37.753019</td>\n",
       "      <td>2009</td>\n",
       "      <td>6</td>\n",
       "      <td>15</td>\n",
       "    </tr>\n",
       "    <tr>\n",
       "      <th>278519</th>\n",
       "      <td>15</td>\n",
       "      <td>4</td>\n",
       "      <td>7</td>\n",
       "      <td>122.407634</td>\n",
       "      <td>37.784189</td>\n",
       "      <td>2011</td>\n",
       "      <td>30</td>\n",
       "      <td>18</td>\n",
       "    </tr>\n",
       "    <tr>\n",
       "      <th>414045</th>\n",
       "      <td>33</td>\n",
       "      <td>6</td>\n",
       "      <td>9</td>\n",
       "      <td>122.409313</td>\n",
       "      <td>37.784348</td>\n",
       "      <td>2009</td>\n",
       "      <td>30</td>\n",
       "      <td>15</td>\n",
       "    </tr>\n",
       "  </tbody>\n",
       "</table>\n",
       "</div>"
      ],
      "text/plain": [
       "        Category  DayOfWeek  PdDistrict           X          Y  Year  Week  \\\n",
       "821148        26          0           5  122.437674  37.783209  2003    40   \n",
       "82731         15          2           7  122.408518  37.773760  2014    14   \n",
       "445186        23          4           3  122.418587  37.753019  2009     6   \n",
       "278519        15          4           7  122.407634  37.784189  2011    30   \n",
       "414045        33          6           9  122.409313  37.784348  2009    30   \n",
       "\n",
       "        Hour  \n",
       "821148    13  \n",
       "82731     18  \n",
       "445186    15  \n",
       "278519    18  \n",
       "414045    15  "
      ]
     },
     "execution_count": 27,
     "metadata": {},
     "output_type": "execute_result"
    }
   ],
   "source": [
    "p_data.head()"
   ]
  },
  {
   "cell_type": "markdown",
   "metadata": {},
   "source": [
    "# Feature Selection"
   ]
  },
  {
   "cell_type": "code",
   "execution_count": 28,
   "metadata": {
    "collapsed": false
   },
   "outputs": [],
   "source": [
    "p_final = extract_features(p_data, p_data.Category, chi2, threshold=.8, kBest=5)"
   ]
  },
  {
   "cell_type": "code",
   "execution_count": 29,
   "metadata": {
    "collapsed": false
   },
   "outputs": [
    {
     "data": {
      "text/html": [
       "<div>\n",
       "<table border=\"1\" class=\"dataframe\">\n",
       "  <thead>\n",
       "    <tr style=\"text-align: right;\">\n",
       "      <th></th>\n",
       "      <th>Category</th>\n",
       "      <th>DayOfWeek</th>\n",
       "      <th>PdDistrict</th>\n",
       "      <th>Week</th>\n",
       "      <th>Hour</th>\n",
       "    </tr>\n",
       "  </thead>\n",
       "  <tbody>\n",
       "    <tr>\n",
       "      <th>821148</th>\n",
       "      <td>26</td>\n",
       "      <td>0</td>\n",
       "      <td>5</td>\n",
       "      <td>40</td>\n",
       "      <td>13</td>\n",
       "    </tr>\n",
       "    <tr>\n",
       "      <th>82731</th>\n",
       "      <td>15</td>\n",
       "      <td>2</td>\n",
       "      <td>7</td>\n",
       "      <td>14</td>\n",
       "      <td>18</td>\n",
       "    </tr>\n",
       "    <tr>\n",
       "      <th>445186</th>\n",
       "      <td>23</td>\n",
       "      <td>4</td>\n",
       "      <td>3</td>\n",
       "      <td>6</td>\n",
       "      <td>15</td>\n",
       "    </tr>\n",
       "    <tr>\n",
       "      <th>278519</th>\n",
       "      <td>15</td>\n",
       "      <td>4</td>\n",
       "      <td>7</td>\n",
       "      <td>30</td>\n",
       "      <td>18</td>\n",
       "    </tr>\n",
       "    <tr>\n",
       "      <th>414045</th>\n",
       "      <td>33</td>\n",
       "      <td>6</td>\n",
       "      <td>9</td>\n",
       "      <td>30</td>\n",
       "      <td>15</td>\n",
       "    </tr>\n",
       "  </tbody>\n",
       "</table>\n",
       "</div>"
      ],
      "text/plain": [
       "        Category  DayOfWeek  PdDistrict  Week  Hour\n",
       "821148        26          0           5    40    13\n",
       "82731         15          2           7    14    18\n",
       "445186        23          4           3     6    15\n",
       "278519        15          4           7    30    18\n",
       "414045        33          6           9    30    15"
      ]
     },
     "execution_count": 29,
     "metadata": {},
     "output_type": "execute_result"
    }
   ],
   "source": [
    "p_final.head()"
   ]
  },
  {
   "cell_type": "code",
   "execution_count": 30,
   "metadata": {
    "collapsed": false
   },
   "outputs": [
    {
     "data": {
      "text/plain": [
       "(5000, 5)"
      ]
     },
     "execution_count": 30,
     "metadata": {},
     "output_type": "execute_result"
    }
   ],
   "source": [
    "p_final.shape"
   ]
  },
  {
   "cell_type": "markdown",
   "metadata": {},
   "source": [
    "# kFolds Cross Validation"
   ]
  },
  {
   "cell_type": "code",
   "execution_count": 33,
   "metadata": {
    "collapsed": false
   },
   "outputs": [
    {
     "name": "stdout",
     "output_type": "stream",
     "text": [
      "[LibSVM][LibSVM][LibSVM][LibSVM][LibSVM]"
     ]
    }
   ],
   "source": [
    "results = model_kfolds(p_final, \"Category\", models)\n",
    "    \n",
    "    \n",
    "#return performance metrics \n",
    "results = [{x[0] : {'accuracy' : x[1]['test_accuracy'].mean(),\n",
    "                    'precision' : x[1]['test_precision_micro'].mean(),\n",
    "                    'recall' : x[1]['test_recall_micro'].mean(),\n",
    "                    'f1' : x[1]['test_f1_micro'].mean()}} for x in results]"
   ]
  },
  {
   "cell_type": "code",
   "execution_count": 32,
   "metadata": {
    "collapsed": false,
    "scrolled": true
   },
   "outputs": [
    {
     "data": {
      "text/plain": [
       "[{'SVC1': {'accuracy': 0.43990409209142306,\n",
       "   'f1': 0.43990409209142306,\n",
       "   'precision': 0.43990409209142306,\n",
       "   'recall': 0.43990409209142306}}]"
      ]
     },
     "execution_count": 32,
     "metadata": {},
     "output_type": "execute_result"
    }
   ],
   "source": [
    "results"
   ]
  }
 ],
 "metadata": {
  "anaconda-cloud": {},
  "kernelspec": {
   "display_name": "Python [default]",
   "language": "python",
   "name": "python3"
  },
  "language_info": {
   "codemirror_mode": {
    "name": "ipython",
    "version": 3
   },
   "file_extension": ".py",
   "mimetype": "text/x-python",
   "name": "python",
   "nbconvert_exporter": "python",
   "pygments_lexer": "ipython3",
   "version": "3.5.2"
  }
 },
 "nbformat": 4,
 "nbformat_minor": 1
}
